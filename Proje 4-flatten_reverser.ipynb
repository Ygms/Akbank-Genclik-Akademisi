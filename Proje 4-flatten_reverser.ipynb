{
 "cells": [
  {
   "cell_type": "code",
   "execution_count": 16,
   "id": "bdc2d1fa-27bb-462c-8616-edad7fdc79e3",
   "metadata": {},
   "outputs": [],
   "source": [
    "#flatten\n",
    "\n",
    "def flatten(compList, _returnList=None):\n",
    "    if _returnList is None:\n",
    "        _returnList = []\n",
    "    if not isinstance(compList, list):\n",
    "        _returnList.append(compList)\n",
    "        return _returnList\n",
    "    for i in compList:\n",
    "        flatten(i, _returnList)\n",
    "    return _returnList\n",
    "    "
   ]
  },
  {
   "cell_type": "code",
   "execution_count": 36,
   "id": "35659536-2513-4cee-b820-86a443aa9c0c",
   "metadata": {},
   "outputs": [],
   "source": [
    "# reverse\n",
    "\n",
    "def reverser(lst):\n",
    "    if not isinstance(lst, list):\n",
    "        return\n",
    "    for item in lst:\n",
    "        reverser(item)\n",
    "    lst.reverse()\n",
    "    return lst\n",
    "    "
   ]
  }
 ],
 "metadata": {
  "kernelspec": {
   "display_name": "Python 3 (ipykernel)",
   "language": "python",
   "name": "python3"
  },
  "language_info": {
   "codemirror_mode": {
    "name": "ipython",
    "version": 3
   },
   "file_extension": ".py",
   "mimetype": "text/x-python",
   "name": "python",
   "nbconvert_exporter": "python",
   "pygments_lexer": "ipython3",
   "version": "3.13.5"
  }
 },
 "nbformat": 4,
 "nbformat_minor": 5
}
