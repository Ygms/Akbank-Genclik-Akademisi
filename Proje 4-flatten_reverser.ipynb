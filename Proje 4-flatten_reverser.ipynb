{
 "cells": [
  {
   "cell_type": "code",
   "execution_count": 16,
   "id": "bdc2d1fa-27bb-462c-8616-edad7fdc79e3",
   "metadata": {},
   "outputs": [],
   "source": [
    "#flatten\n",
    "\n",
    "def flatten(compList, _returnList=None):\n",
    "    if _returnList is None:\n",
    "        _returnList = []\n",
    "    if not isinstance(compList, list):\n",
    "        _returnList.append(compList)\n",
    "        return _returnList\n",
    "    for i in compList:\n",
    "        flatten(i, _returnList)\n",
    "    return _returnList"
   ]
  },
  {
   "cell_type": "code",
   "execution_count": 33,
   "id": "35659536-2513-4cee-b820-86a443aa9c0c",
   "metadata": {},
   "outputs": [
    {
     "name": "stdout",
     "output_type": "stream",
     "text": [
      "[[7, 6, 5], [4, 3], [2, 1]]\n"
     ]
    }
   ],
   "source": [
    "# reverse\n",
    "\n",
    "def reverser(compList):\n",
    "    \n",
    "    if not isinstance(compList, list):\n",
    "        return\n",
    "        \n",
    "    for i in compList:\n",
    "        reverser(i)\n",
    "        if isinstance(i, list):\n",
    "            i.reverse()\n",
    "\n",
    "    return compList[::-1]\n",
    "\n",
    "b = [[1, 2], [3, 4], [5, 6, 7]]\n",
    "\n",
    "print(reverser(b))\n"
   ]
  },
  {
   "cell_type": "code",
   "execution_count": 31,
   "id": "ad5dee95-22ec-4b0c-95fd-ba5892c3118d",
   "metadata": {},
   "outputs": [
    {
     "name": "stdout",
     "output_type": "stream",
     "text": [
      "[[5, 6, 7], [3, 4], [1, 2]]\n"
     ]
    }
   ],
   "source": [
    "a = [[1, 2], [3, 4], [5, 6, 7]]\n",
    "a.reverse()\n",
    "print(a)"
   ]
  },
  {
   "cell_type": "code",
   "execution_count": null,
   "id": "9f247652-c5d9-41fd-b262-d3fe5ef4bdd9",
   "metadata": {},
   "outputs": [],
   "source": []
  }
 ],
 "metadata": {
  "kernelspec": {
   "display_name": "Python 3 (ipykernel)",
   "language": "python",
   "name": "python3"
  },
  "language_info": {
   "codemirror_mode": {
    "name": "ipython",
    "version": 3
   },
   "file_extension": ".py",
   "mimetype": "text/x-python",
   "name": "python",
   "nbconvert_exporter": "python",
   "pygments_lexer": "ipython3",
   "version": "3.13.5"
  }
 },
 "nbformat": 4,
 "nbformat_minor": 5
}
